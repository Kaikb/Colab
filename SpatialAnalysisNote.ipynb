{
  "nbformat": 4,
  "nbformat_minor": 0,
  "metadata": {
    "colab": {
      "name": "SpatialAnalysisNote.ipynb",
      "provenance": [],
      "collapsed_sections": [],
      "toc_visible": true,
      "mount_file_id": "1G4qHtC8qfby73Nra2v4QP2kK3AM0T8PF",
      "authorship_tag": "ABX9TyOb4QMz59McC/lzS9wQCHCU",
      "include_colab_link": true
    },
    "kernelspec": {
      "name": "python3",
      "display_name": "Python 3"
    },
    "language_info": {
      "name": "python"
    }
  },
  "cells": [
    {
      "cell_type": "markdown",
      "metadata": {
        "id": "view-in-github",
        "colab_type": "text"
      },
      "source": [
        "<a href=\"https://colab.research.google.com/github/Kaikb/Colab/blob/main/SpatialAnalysisNote.ipynb\" target=\"_parent\"><img src=\"https://colab.research.google.com/assets/colab-badge.svg\" alt=\"Open In Colab\"/></a>"
      ]
    },
    {
      "cell_type": "markdown",
      "metadata": {
        "id": "iAfPXxYI-GYY"
      },
      "source": [
        "# Introducing Machine Learning for Spatial Analysis\n",
        "\n",
        "```\n",
        "Objectives\n",
        "1. Understand the basic concept of ML and spatial analysis\n",
        "2. Know Conventional ML and ML for spatial data analysis\n",
        "```\n",
        "\n"
      ]
    },
    {
      "cell_type": "markdown",
      "metadata": {
        "id": "n_MF3BvA_qfS"
      },
      "source": [
        "Geospatial data are data for which a specific location is associated with each record.\n",
        "\n",
        "### GIS (Geographic Information Sciences) model\n",
        "* Raster : which encode the world as a continuous surface represented by a grid, such as the pixels of an image.\n",
        "* Vector: represent the world as a collection of discrete objects using points, lines, and polygons.\n",
        "\n",
        "#### Vector features\n",
        "\"Discrete\" representations that turn the world into:\n",
        "* Point geometry: a single location with X and Y coordinates ex) `Point(2,10)`\n",
        "* Linestring : a line is a group of connected points. ex) `LineString([(1,2),(1,5)....])`\n",
        "* Polygon: formed by a closed line that encircles an area ex) `Polygon([(13,1),(14,4),...])`\n",
        "Feature consisting of multiple geometries: eg `MultiPolygon`\n",
        "\n",
        "### Vector attribute data\n",
        "Vector features can have information associated that describe them: **attributes**\n"
      ]
    },
    {
      "cell_type": "code",
      "metadata": {
        "id": "JMyqUUfzRBqM"
      },
      "source": [
        "\n",
        "# # Read the restaurants csv file\n",
        "# restaurants = pd.read_csv(\"paris_restaurants.csv\")\n",
        "\n",
        "# print(restaurants.head(5))\n",
        "# # Import contextily\n",
        "# import contextily\n",
        "\n",
        "# # A figure of all restaurants with background\n",
        "# fig, ax = plt.subplots()\n",
        "# ax.plot(restaurants['x'], restaurants['y'], 'o', markersize=1)\n",
        "# contextily.add_basemap(ax)\n",
        "# plt.show()"
      ],
      "execution_count": 3,
      "outputs": []
    },
    {
      "cell_type": "code",
      "metadata": {
        "colab": {
          "base_uri": "https://localhost:8080/"
        },
        "id": "m3kjPygnXeS8",
        "outputId": "1dcbe054-f25a-47e7-c472-ab83093b11f0"
      },
      "source": [
        "!pip install geopandas"
      ],
      "execution_count": 4,
      "outputs": [
        {
          "output_type": "stream",
          "text": [
            "Collecting geopandas\n",
            "\u001b[?25l  Downloading https://files.pythonhosted.org/packages/d7/bf/e9cefb69d39155d122b6ddca53893b61535fa6ffdad70bf5ef708977f53f/geopandas-0.9.0-py2.py3-none-any.whl (994kB)\n",
            "\u001b[K     |████████████████████████████████| 1.0MB 19.9MB/s \n",
            "\u001b[?25hRequirement already satisfied: pandas>=0.24.0 in /usr/local/lib/python3.7/dist-packages (from geopandas) (1.1.5)\n",
            "Collecting pyproj>=2.2.0\n",
            "\u001b[?25l  Downloading https://files.pythonhosted.org/packages/b1/72/d52e9ca81caef056062d71991b0e9b1d16af042245627c5d0e4916a36c4f/pyproj-3.0.1-cp37-cp37m-manylinux2010_x86_64.whl (6.5MB)\n",
            "\u001b[K     |████████████████████████████████| 6.5MB 43.9MB/s \n",
            "\u001b[?25hRequirement already satisfied: shapely>=1.6 in /usr/local/lib/python3.7/dist-packages (from geopandas) (1.7.1)\n",
            "Collecting fiona>=1.8\n",
            "\u001b[?25l  Downloading https://files.pythonhosted.org/packages/47/c2/67d1d0acbaaee3b03e5e22e3b96c33219cb5dd392531c9ff9cee7c2eb3e4/Fiona-1.8.18-cp37-cp37m-manylinux1_x86_64.whl (14.8MB)\n",
            "\u001b[K     |████████████████████████████████| 14.8MB 260kB/s \n",
            "\u001b[?25hRequirement already satisfied: python-dateutil>=2.7.3 in /usr/local/lib/python3.7/dist-packages (from pandas>=0.24.0->geopandas) (2.8.1)\n",
            "Requirement already satisfied: pytz>=2017.2 in /usr/local/lib/python3.7/dist-packages (from pandas>=0.24.0->geopandas) (2018.9)\n",
            "Requirement already satisfied: numpy>=1.15.4 in /usr/local/lib/python3.7/dist-packages (from pandas>=0.24.0->geopandas) (1.19.5)\n",
            "Requirement already satisfied: certifi in /usr/local/lib/python3.7/dist-packages (from pyproj>=2.2.0->geopandas) (2020.12.5)\n",
            "Requirement already satisfied: click<8,>=4.0 in /usr/local/lib/python3.7/dist-packages (from fiona>=1.8->geopandas) (7.1.2)\n",
            "Collecting munch\n",
            "  Downloading https://files.pythonhosted.org/packages/cc/ab/85d8da5c9a45e072301beb37ad7f833cd344e04c817d97e0cc75681d248f/munch-2.5.0-py2.py3-none-any.whl\n",
            "Collecting click-plugins>=1.0\n",
            "  Downloading https://files.pythonhosted.org/packages/e9/da/824b92d9942f4e472702488857914bdd50f73021efea15b4cad9aca8ecef/click_plugins-1.1.1-py2.py3-none-any.whl\n",
            "Requirement already satisfied: attrs>=17 in /usr/local/lib/python3.7/dist-packages (from fiona>=1.8->geopandas) (20.3.0)\n",
            "Requirement already satisfied: six>=1.7 in /usr/local/lib/python3.7/dist-packages (from fiona>=1.8->geopandas) (1.15.0)\n",
            "Collecting cligj>=0.5\n",
            "  Downloading https://files.pythonhosted.org/packages/42/1e/947eadf10d6804bf276eb8a038bd5307996dceaaa41cfd21b7a15ec62f5d/cligj-0.7.1-py3-none-any.whl\n",
            "Installing collected packages: pyproj, munch, click-plugins, cligj, fiona, geopandas\n",
            "Successfully installed click-plugins-1.1.1 cligj-0.7.1 fiona-1.8.18 geopandas-0.9.0 munch-2.5.0 pyproj-3.0.1\n"
          ],
          "name": "stdout"
        }
      ]
    },
    {
      "cell_type": "code",
      "metadata": {
        "colab": {
          "base_uri": "https://localhost:8080/"
        },
        "id": "fszlRuirXlbI",
        "outputId": "46dc0448-2995-4d60-d2eb-76c6dbe6e480"
      },
      "source": [
        "import geopandas\n",
        "from google.colab import drive\n",
        "\n",
        "# mount drive\n",
        "drive.mount('/content/drive')\n"
      ],
      "execution_count": 5,
      "outputs": [
        {
          "output_type": "stream",
          "text": [
            "Drive already mounted at /content/drive; to attempt to forcibly remount, call drive.mount(\"/content/drive\", force_remount=True).\n"
          ],
          "name": "stdout"
        }
      ]
    },
    {
      "cell_type": "code",
      "metadata": {
        "id": "tBNAE4MHYIck"
      },
      "source": [
        "countries = geopandas.read_file('/content/drive/MyDrive/Colab Notebooks/Spatial Data/countries.geojson')"
      ],
      "execution_count": 6,
      "outputs": []
    },
    {
      "cell_type": "code",
      "metadata": {
        "colab": {
          "base_uri": "https://localhost:8080/",
          "height": 195
        },
        "id": "vDLwBDttY6Pb",
        "outputId": "540c93ae-5328-470d-efb1-dcf823700e7f"
      },
      "source": [
        "countries.head(5)"
      ],
      "execution_count": 7,
      "outputs": [
        {
          "output_type": "execute_result",
          "data": {
            "text/html": [
              "<div>\n",
              "<style scoped>\n",
              "    .dataframe tbody tr th:only-of-type {\n",
              "        vertical-align: middle;\n",
              "    }\n",
              "\n",
              "    .dataframe tbody tr th {\n",
              "        vertical-align: top;\n",
              "    }\n",
              "\n",
              "    .dataframe thead th {\n",
              "        text-align: right;\n",
              "    }\n",
              "</style>\n",
              "<table border=\"1\" class=\"dataframe\">\n",
              "  <thead>\n",
              "    <tr style=\"text-align: right;\">\n",
              "      <th></th>\n",
              "      <th>ADMIN</th>\n",
              "      <th>ISO_A3</th>\n",
              "      <th>geometry</th>\n",
              "    </tr>\n",
              "  </thead>\n",
              "  <tbody>\n",
              "    <tr>\n",
              "      <th>0</th>\n",
              "      <td>Aruba</td>\n",
              "      <td>ABW</td>\n",
              "      <td>POLYGON ((-69.99694 12.57758, -69.93639 12.531...</td>\n",
              "    </tr>\n",
              "    <tr>\n",
              "      <th>1</th>\n",
              "      <td>Afghanistan</td>\n",
              "      <td>AFG</td>\n",
              "      <td>POLYGON ((71.04980 38.40866, 71.05714 38.40903...</td>\n",
              "    </tr>\n",
              "    <tr>\n",
              "      <th>2</th>\n",
              "      <td>Angola</td>\n",
              "      <td>AGO</td>\n",
              "      <td>MULTIPOLYGON (((11.73752 -16.69258, 11.73851 -...</td>\n",
              "    </tr>\n",
              "    <tr>\n",
              "      <th>3</th>\n",
              "      <td>Anguilla</td>\n",
              "      <td>AIA</td>\n",
              "      <td>MULTIPOLYGON (((-63.03767 18.21296, -63.09952 ...</td>\n",
              "    </tr>\n",
              "    <tr>\n",
              "      <th>4</th>\n",
              "      <td>Albania</td>\n",
              "      <td>ALB</td>\n",
              "      <td>POLYGON ((19.74777 42.57890, 19.74601 42.57993...</td>\n",
              "    </tr>\n",
              "  </tbody>\n",
              "</table>\n",
              "</div>"
            ],
            "text/plain": [
              "         ADMIN ISO_A3                                           geometry\n",
              "0        Aruba    ABW  POLYGON ((-69.99694 12.57758, -69.93639 12.531...\n",
              "1  Afghanistan    AFG  POLYGON ((71.04980 38.40866, 71.05714 38.40903...\n",
              "2       Angola    AGO  MULTIPOLYGON (((11.73752 -16.69258, 11.73851 -...\n",
              "3     Anguilla    AIA  MULTIPOLYGON (((-63.03767 18.21296, -63.09952 ...\n",
              "4      Albania    ALB  POLYGON ((19.74777 42.57890, 19.74601 42.57993..."
            ]
          },
          "metadata": {
            "tags": []
          },
          "execution_count": 7
        }
      ]
    },
    {
      "cell_type": "code",
      "metadata": {
        "colab": {
          "base_uri": "https://localhost:8080/",
          "height": 227
        },
        "id": "E-k5Z74UY_NV",
        "outputId": "4b229f79-b4f0-4510-cbb1-11e5e5271b84"
      },
      "source": [
        "countries.plot()"
      ],
      "execution_count": 8,
      "outputs": [
        {
          "output_type": "execute_result",
          "data": {
            "text/plain": [
              "<matplotlib.axes._subplots.AxesSubplot at 0x7fe5a539f7d0>"
            ]
          },
          "metadata": {
            "tags": []
          },
          "execution_count": 8
        },
        {
          "output_type": "display_data",
          "data": {
            "image/png": "[encoded data removed]",
            "text/plain": [
              "<Figure size 432x288 with 1 Axes>"
            ]
          },
          "metadata": {
            "tags": [],
            "needs_background": "light"
          }
        }
      ]
    },
    {
      "cell_type": "code",
      "metadata": {
        "colab": {
          "base_uri": "https://localhost:8080/"
        },
        "id": "wcn6oQthZH_s",
        "outputId": "63ad1c55-02ed-44f3-a7ce-5c41993981d4"
      },
      "source": [
        "# Normal pandas dataframe supercharged with geospatial capabilities\n",
        "type(countries)"
      ],
      "execution_count": 9,
      "outputs": [
        {
          "output_type": "execute_result",
          "data": {
            "text/plain": [
              "geopandas.geodataframe.GeoDataFrame"
            ]
          },
          "metadata": {
            "tags": []
          },
          "execution_count": 9
        }
      ]
    },
    {
      "cell_type": "code",
      "metadata": {
        "colab": {
          "base_uri": "https://localhost:8080/"
        },
        "id": "zUSYdqRBZLjS",
        "outputId": "17d89ab6-d102-4762-8f7d-080967314748"
      },
      "source": [
        "#`geometry` attribute which always gives us back the geometry column, regardless of it's catual column\n",
        "countries.geometry"
      ],
      "execution_count": 10,
      "outputs": [
        {
          "output_type": "execute_result",
          "data": {
            "text/plain": [
              "0      POLYGON ((-69.99694 12.57758, -69.93639 12.531...\n",
              "1      POLYGON ((71.04980 38.40866, 71.05714 38.40903...\n",
              "2      MULTIPOLYGON (((11.73752 -16.69258, 11.73851 -...\n",
              "3      MULTIPOLYGON (((-63.03767 18.21296, -63.09952 ...\n",
              "4      POLYGON ((19.74777 42.57890, 19.74601 42.57993...\n",
              "                             ...                        \n",
              "250    MULTIPOLYGON (((-171.57002 -13.93816, -171.564...\n",
              "251    MULTIPOLYGON (((53.30824 12.11839, 53.31027 12...\n",
              "252    MULTIPOLYGON (((37.86378 -46.94085, 37.83644 -...\n",
              "253    POLYGON ((31.11984 -8.61663, 31.14102 -8.60619...\n",
              "254    POLYGON ((30.01065 -15.64623, 30.05024 -15.640...\n",
              "Name: geometry, Length: 255, dtype: geometry"
            ]
          },
          "metadata": {
            "tags": []
          },
          "execution_count": 10
        }
      ]
    },
    {
      "cell_type": "code",
      "metadata": {
        "colab": {
          "base_uri": "https://localhost:8080/"
        },
        "id": "Lei0yVVDZsM2",
        "outputId": "4a206b83-d584-46f1-ba0d-f08e6fa7923c"
      },
      "source": [
        "countries.geometry.area"
      ],
      "execution_count": 11,
      "outputs": [
        {
          "output_type": "stream",
          "text": [
            "/usr/local/lib/python3.7/dist-packages/ipykernel_launcher.py:1: UserWarning: Geometry is in a geographic CRS. Results from 'area' are likely incorrect. Use 'GeoSeries.to_crs()' to re-project geometries to a projected CRS before this operation.\n",
            "\n",
            "  \"\"\"Entry point for launching an IPython kernel.\n"
          ],
          "name": "stderr"
        },
        {
          "output_type": "execute_result",
          "data": {
            "text/plain": [
              "0        0.014119\n",
              "1       62.591667\n",
              "2      103.585468\n",
              "3        0.006891\n",
              "4        3.039396\n",
              "          ...    \n",
              "250      0.232378\n",
              "251     38.246702\n",
              "252    113.101342\n",
              "253     62.815603\n",
              "254     33.418583\n",
              "Length: 255, dtype: float64"
            ]
          },
          "metadata": {
            "tags": []
          },
          "execution_count": 11
        }
      ]
    },
    {
      "cell_type": "code",
      "metadata": {
        "id": "PajqAfk3Z_Yd"
      },
      "source": [
        "# # Read the restaurants csv file into a DataFrame\n",
        "# df = pd.read_csv(\"paris_restaurants.csv\")\n",
        "\n",
        "# # Convert it to a GeoDataFrame\n",
        "# restaurants = geopandas.GeoDataFrame(df, geometry=geopandas.points_from_xy(df.x, df.y))\n",
        "\n",
        "# # Inspect the first rows of the restaurants GeoDataFrame\n",
        "# print(restaurants.head(5))\n",
        "\n",
        "# # Make a plot of the restaurants\n",
        "# ax = restaurants.plot(markersize=1)\n",
        "# import contextily\n",
        "# contextily.add_basemap(ax)\n",
        "# plt.show()"
      ],
      "execution_count": null,
      "outputs": []
    },
    {
      "cell_type": "code",
      "metadata": {
        "id": "avlze9-Ob60h"
      },
      "source": [
        ""
      ],
      "execution_count": null,
      "outputs": []
    }
  ]
}