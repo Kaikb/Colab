{
  "nbformat": 4,
  "nbformat_minor": 0,
  "metadata": {
    "colab": {
      "name": "LSTM_Stock_Prediction.ipynb",
      "provenance": [],
      "authorship_tag": "ABX9TyM8fLMwnUcA0mZHwkgJHhhI",
      "include_colab_link": true
    },
    "kernelspec": {
      "name": "python3",
      "display_name": "Python 3"
    }
  },
  "cells": [
    {
      "cell_type": "markdown",
      "metadata": {
        "id": "view-in-github",
        "colab_type": "text"
      },
      "source": [
        "<a href=\"https://colab.research.google.com/github/Kaikb/Colab/blob/main/LSTM_Stock_Prediction.ipynb\" target=\"_parent\"><img src=\"https://colab.research.google.com/assets/colab-badge.svg\" alt=\"Open In Colab\"/></a>"
      ]
    },
    {
      "cell_type": "code",
      "metadata": {
        "id": "TgvuW7e_Z7s_"
      },
      "source": [
        "# Description: This program uses an artificial recurrent neural network called LSTM "
      ],
      "execution_count": 1,
      "outputs": []
    },
    {
      "cell_type": "code",
      "metadata": {
        "id": "sV-xElhdaB-C"
      },
      "source": [
        "# Import the libraries\n",
        "import math\n",
        "import pandas_datareader as web\n",
        "import numpy as np\n",
        "import pandas as pd\n",
        "from sklearn.preprocessing import MinMaxScaler\n",
        "from keras.models import Sequential\n",
        "from keras.layers import Dense, LSTM\n",
        "import matplotlib.pyplot as plt\n",
        "plt.style.use('fivethirtyeight')"
      ],
      "execution_count": 5,
      "outputs": []
    },
    {
      "cell_type": "code",
      "metadata": {
        "colab": {
          "base_uri": "https://localhost:8080/",
          "height": 431
        },
        "id": "r47ovu7ga3Cs",
        "outputId": "76c839b3-f9d1-4558-a104-5dc5a1fcbe8b"
      },
      "source": [
        "#Get the stock quote\n",
        "df = web.DataReader('AAPL', data_source='yahoo', start='2012-01-01', end= '2020-12-31')\n",
        "#Show the data\n",
        "df"
      ],
      "execution_count": 7,
      "outputs": [
        {
          "output_type": "execute_result",
          "data": {
            "text/html": [
              "<div>\n",
              "<style scoped>\n",
              "    .dataframe tbody tr th:only-of-type {\n",
              "        vertical-align: middle;\n",
              "    }\n",
              "\n",
              "    .dataframe tbody tr th {\n",
              "        vertical-align: top;\n",
              "    }\n",
              "\n",
              "    .dataframe thead th {\n",
              "        text-align: right;\n",
              "    }\n",
              "</style>\n",
              "<table border=\"1\" class=\"dataframe\">\n",
              "  <thead>\n",
              "    <tr style=\"text-align: right;\">\n",
              "      <th></th>\n",
              "      <th>High</th>\n",
              "      <th>Low</th>\n",
              "      <th>Open</th>\n",
              "      <th>Close</th>\n",
              "      <th>Volume</th>\n",
              "      <th>Adj Close</th>\n",
              "    </tr>\n",
              "    <tr>\n",
              "      <th>Date</th>\n",
              "      <th></th>\n",
              "      <th></th>\n",
              "      <th></th>\n",
              "      <th></th>\n",
              "      <th></th>\n",
              "      <th></th>\n",
              "    </tr>\n",
              "  </thead>\n",
              "  <tbody>\n",
              "    <tr>\n",
              "      <th>2012-01-03</th>\n",
              "      <td>14.732143</td>\n",
              "      <td>14.607143</td>\n",
              "      <td>14.621429</td>\n",
              "      <td>14.686786</td>\n",
              "      <td>302220800.0</td>\n",
              "      <td>12.650659</td>\n",
              "    </tr>\n",
              "    <tr>\n",
              "      <th>2012-01-04</th>\n",
              "      <td>14.810000</td>\n",
              "      <td>14.617143</td>\n",
              "      <td>14.642857</td>\n",
              "      <td>14.765714</td>\n",
              "      <td>260022000.0</td>\n",
              "      <td>12.718646</td>\n",
              "    </tr>\n",
              "    <tr>\n",
              "      <th>2012-01-05</th>\n",
              "      <td>14.948214</td>\n",
              "      <td>14.738214</td>\n",
              "      <td>14.819643</td>\n",
              "      <td>14.929643</td>\n",
              "      <td>271269600.0</td>\n",
              "      <td>12.859850</td>\n",
              "    </tr>\n",
              "    <tr>\n",
              "      <th>2012-01-06</th>\n",
              "      <td>15.098214</td>\n",
              "      <td>14.972143</td>\n",
              "      <td>14.991786</td>\n",
              "      <td>15.085714</td>\n",
              "      <td>318292800.0</td>\n",
              "      <td>12.994284</td>\n",
              "    </tr>\n",
              "    <tr>\n",
              "      <th>2012-01-09</th>\n",
              "      <td>15.276786</td>\n",
              "      <td>15.048214</td>\n",
              "      <td>15.196429</td>\n",
              "      <td>15.061786</td>\n",
              "      <td>394024400.0</td>\n",
              "      <td>12.973674</td>\n",
              "    </tr>\n",
              "    <tr>\n",
              "      <th>...</th>\n",
              "      <td>...</td>\n",
              "      <td>...</td>\n",
              "      <td>...</td>\n",
              "      <td>...</td>\n",
              "      <td>...</td>\n",
              "      <td>...</td>\n",
              "    </tr>\n",
              "    <tr>\n",
              "      <th>2020-12-24</th>\n",
              "      <td>133.460007</td>\n",
              "      <td>131.100006</td>\n",
              "      <td>131.320007</td>\n",
              "      <td>131.970001</td>\n",
              "      <td>54930100.0</td>\n",
              "      <td>131.773087</td>\n",
              "    </tr>\n",
              "    <tr>\n",
              "      <th>2020-12-28</th>\n",
              "      <td>137.339996</td>\n",
              "      <td>133.509995</td>\n",
              "      <td>133.990005</td>\n",
              "      <td>136.690002</td>\n",
              "      <td>124486200.0</td>\n",
              "      <td>136.486053</td>\n",
              "    </tr>\n",
              "    <tr>\n",
              "      <th>2020-12-29</th>\n",
              "      <td>138.789993</td>\n",
              "      <td>134.339996</td>\n",
              "      <td>138.050003</td>\n",
              "      <td>134.869995</td>\n",
              "      <td>121047300.0</td>\n",
              "      <td>134.668762</td>\n",
              "    </tr>\n",
              "    <tr>\n",
              "      <th>2020-12-30</th>\n",
              "      <td>135.990005</td>\n",
              "      <td>133.399994</td>\n",
              "      <td>135.580002</td>\n",
              "      <td>133.720001</td>\n",
              "      <td>96452100.0</td>\n",
              "      <td>133.520477</td>\n",
              "    </tr>\n",
              "    <tr>\n",
              "      <th>2020-12-31</th>\n",
              "      <td>134.740005</td>\n",
              "      <td>131.720001</td>\n",
              "      <td>134.080002</td>\n",
              "      <td>132.690002</td>\n",
              "      <td>98990400.0</td>\n",
              "      <td>132.492020</td>\n",
              "    </tr>\n",
              "  </tbody>\n",
              "</table>\n",
              "<p>2265 rows × 6 columns</p>\n",
              "</div>"
            ],
            "text/plain": [
              "                  High         Low  ...       Volume   Adj Close\n",
              "Date                                ...                         \n",
              "2012-01-03   14.732143   14.607143  ...  302220800.0   12.650659\n",
              "2012-01-04   14.810000   14.617143  ...  260022000.0   12.718646\n",
              "2012-01-05   14.948214   14.738214  ...  271269600.0   12.859850\n",
              "2012-01-06   15.098214   14.972143  ...  318292800.0   12.994284\n",
              "2012-01-09   15.276786   15.048214  ...  394024400.0   12.973674\n",
              "...                ...         ...  ...          ...         ...\n",
              "2020-12-24  133.460007  131.100006  ...   54930100.0  131.773087\n",
              "2020-12-28  137.339996  133.509995  ...  124486200.0  136.486053\n",
              "2020-12-29  138.789993  134.339996  ...  121047300.0  134.668762\n",
              "2020-12-30  135.990005  133.399994  ...   96452100.0  133.520477\n",
              "2020-12-31  134.740005  131.720001  ...   98990400.0  132.492020\n",
              "\n",
              "[2265 rows x 6 columns]"
            ]
          },
          "metadata": {
            "tags": []
          },
          "execution_count": 7
        }
      ]
    },
    {
      "cell_type": "code",
      "metadata": {
        "colab": {
          "base_uri": "https://localhost:8080/"
        },
        "id": "bJD8sLtfbzp5",
        "outputId": "4c8a057b-03ed-4f90-9ce8-aa25d1e740aa"
      },
      "source": [
        "#Get the number of rows and columns in the data set\n",
        "df.shape"
      ],
      "execution_count": 9,
      "outputs": [
        {
          "output_type": "execute_result",
          "data": {
            "text/plain": [
              "(2265, 6)"
            ]
          },
          "metadata": {
            "tags": []
          },
          "execution_count": 9
        }
      ]
    },
    {
      "cell_type": "code",
      "metadata": {
        "colab": {
          "base_uri": "https://localhost:8080/",
          "height": 458
        },
        "id": "g70izdJDcJvX",
        "outputId": "5233d9ee-b901-42a1-e258-0f490f4c231b"
      },
      "source": [
        "#Visualize the closing price history\n",
        "plt.figure(figsize=(16,8))\n",
        "plt.title('Close Price History')\n",
        "plt.plot(df['Close'])\n",
        "plt.xlabel('Date' ,fontsize=18)\n",
        "plt.ylabel('Close Price USD ($)', fontsize=18)\n",
        "plt.show()"
      ],
      "execution_count": 15,
      "outputs": [
        {
          "output_type": "display_data",
          "data": {
            "image/png": "[encoded data removed]",
            "text/plain": [
              "<Figure size 1152x576 with 1 Axes>"
            ]
          },
          "metadata": {
            "tags": []
          }
        }
      ]
    },
    {
      "cell_type": "code",
      "metadata": {
        "colab": {
          "base_uri": "https://localhost:8080/"
        },
        "id": "t9zFoqQYcrri",
        "outputId": "ec158d56-2466-4046-a660-e56737b3f2a3"
      },
      "source": [
        "#Create a new dataframe with only the 'Close column\n",
        "data = df.filter(['Close'])\n",
        "#Convert the dataframe to a numpy array\n",
        "dataset = data.values\n",
        "#Get the number of rows to train the model on\n",
        "training_data_len = math.ceil(len(dataset) * .8 )\n",
        "training_data_len"
      ],
      "execution_count": 16,
      "outputs": [
        {
          "output_type": "execute_result",
          "data": {
            "text/plain": [
              "1812"
            ]
          },
          "metadata": {
            "tags": []
          },
          "execution_count": 16
        }
      ]
    },
    {
      "cell_type": "code",
      "metadata": {
        "colab": {
          "base_uri": "https://localhost:8080/"
        },
        "id": "XzNL1Texeb3n",
        "outputId": "17a62be0-af70-45b7-e4a8-76e33e8c82a7"
      },
      "source": [
        "#Scale the data\n",
        "scaler = MinMaxScaler(feature_range=(0,1))\n",
        "scaled_data = scaler.fit_transform(dataset)\n",
        "\n",
        "scaled_data"
      ],
      "execution_count": 17,
      "outputs": [
        {
          "output_type": "execute_result",
          "data": {
            "text/plain": [
              "array([[0.00602306],\n",
              "       [0.0066661 ],\n",
              "       [0.00800165],\n",
              "       ...,\n",
              "       [0.98517215],\n",
              "       [0.97580299],\n",
              "       [0.96741145]])"
            ]
          },
          "metadata": {
            "tags": []
          },
          "execution_count": 17
        }
      ]
    },
    {
      "cell_type": "code",
      "metadata": {
        "colab": {
          "base_uri": "https://localhost:8080/"
        },
        "id": "MbLNrCAge5rD",
        "outputId": "61e4e9af-c9e3-4df2-c5af-956ec95f4a9d"
      },
      "source": [
        "#Create training data set\n",
        "#Create the scaled training data set\n",
        "train_data = scaled_data[0:training_data_len, :]\n",
        "#Split the data into x_train and y_train data sets\n",
        "x_train = []\n",
        "y_train = []\n",
        "for i in range(60, len(train_data)):\n",
        "  x_train.append(train_data[i-60:i, 0])\n",
        "  y_train.append(train_data[i, 0])\n",
        "  if i <= 61:\n",
        "    print(x_train)\n",
        "    print(y_train)\n",
        "    print()"
      ],
      "execution_count": 19,
      "outputs": [
        {
          "output_type": "stream",
          "text": [
            "[array([0.00602306, 0.0066661 , 0.00800165, 0.00927319, 0.00907824,\n",
            "       0.0095176 , 0.00931683, 0.0089793 , 0.00851957, 0.00994242,\n",
            "       0.01122559, 0.01082987, 0.00866214, 0.01073094, 0.00869416,\n",
            "       0.0163321 , 0.01574144, 0.0165125 , 0.01817975, 0.01918941,\n",
            "       0.01910503, 0.0187937 , 0.02012052, 0.02136877, 0.02278289,\n",
            "       0.025067  , 0.02986508, 0.02993782, 0.03260892, 0.03460496,\n",
            "       0.03117444, 0.03249544, 0.03246925, 0.03617329, 0.03564663,\n",
            "       0.03662137, 0.03837301, 0.03934777, 0.04215562, 0.04420112,\n",
            "       0.04479179, 0.04499838, 0.04150094, 0.04065712, 0.04078224,\n",
            "       0.0440702 , 0.04499548, 0.0469828 , 0.0516674 , 0.05791742,\n",
            "       0.05674772, 0.05675062, 0.06126938, 0.0626835 , 0.06167673,\n",
            "       0.06075728, 0.05979999, 0.06298027, 0.06516255, 0.06607619])]\n",
            "[0.06381826722571945]\n",
            "\n",
            "[array([0.00602306, 0.0066661 , 0.00800165, 0.00927319, 0.00907824,\n",
            "       0.0095176 , 0.00931683, 0.0089793 , 0.00851957, 0.00994242,\n",
            "       0.01122559, 0.01082987, 0.00866214, 0.01073094, 0.00869416,\n",
            "       0.0163321 , 0.01574144, 0.0165125 , 0.01817975, 0.01918941,\n",
            "       0.01910503, 0.0187937 , 0.02012052, 0.02136877, 0.02278289,\n",
            "       0.025067  , 0.02986508, 0.02993782, 0.03260892, 0.03460496,\n",
            "       0.03117444, 0.03249544, 0.03246925, 0.03617329, 0.03564663,\n",
            "       0.03662137, 0.03837301, 0.03934777, 0.04215562, 0.04420112,\n",
            "       0.04479179, 0.04499838, 0.04150094, 0.04065712, 0.04078224,\n",
            "       0.0440702 , 0.04499548, 0.0469828 , 0.0516674 , 0.05791742,\n",
            "       0.05674772, 0.05675062, 0.06126938, 0.0626835 , 0.06167673,\n",
            "       0.06075728, 0.05979999, 0.06298027, 0.06516255, 0.06607619]), array([0.0066661 , 0.00800165, 0.00927319, 0.00907824, 0.0095176 ,\n",
            "       0.00931683, 0.0089793 , 0.00851957, 0.00994242, 0.01122559,\n",
            "       0.01082987, 0.00866214, 0.01073094, 0.00869416, 0.0163321 ,\n",
            "       0.01574144, 0.0165125 , 0.01817975, 0.01918941, 0.01910503,\n",
            "       0.0187937 , 0.02012052, 0.02136877, 0.02278289, 0.025067  ,\n",
            "       0.02986508, 0.02993782, 0.03260892, 0.03460496, 0.03117444,\n",
            "       0.03249544, 0.03246925, 0.03617329, 0.03564663, 0.03662137,\n",
            "       0.03837301, 0.03934777, 0.04215562, 0.04420112, 0.04479179,\n",
            "       0.04499838, 0.04150094, 0.04065712, 0.04078224, 0.0440702 ,\n",
            "       0.04499548, 0.0469828 , 0.0516674 , 0.05791742, 0.05674772,\n",
            "       0.05675062, 0.06126938, 0.0626835 , 0.06167673, 0.06075728,\n",
            "       0.05979999, 0.06298027, 0.06516255, 0.06607619, 0.06381827])]\n",
            "[0.06381826722571945, 0.060818380088606155]\n",
            "\n"
          ],
          "name": "stdout"
        }
      ]
    },
    {
      "cell_type": "code",
      "metadata": {
        "id": "LxhZIVfPgeSh"
      },
      "source": [
        "#Conver the x_train and y_train to numpy arrays\n",
        "x_train, y_train = np.array(x_train), np.array(y_train)"
      ],
      "execution_count": 20,
      "outputs": []
    },
    {
      "cell_type": "code",
      "metadata": {
        "colab": {
          "base_uri": "https://localhost:8080/"
        },
        "id": "IIe7NAiSgqDS",
        "outputId": "388866f6-2d89-497a-f9bd-9efacf47539b"
      },
      "source": [
        "#Reshape the data\n",
        "x_train = np.reshape(x_train, (x_train.shape[0], x_train.shape[1], 1))\n",
        "x_train.shape"
      ],
      "execution_count": 23,
      "outputs": [
        {
          "output_type": "execute_result",
          "data": {
            "text/plain": [
              "(1752, 60, 1)"
            ]
          },
          "metadata": {
            "tags": []
          },
          "execution_count": 23
        }
      ]
    },
    {
      "cell_type": "code",
      "metadata": {
        "id": "_Fv06gvPgwlI"
      },
      "source": [
        "# Build the LSTM model\n",
        "model = Sequential()\n",
        "model.add(LSTM(50, return_sequences=True, input_shape= (x_train.shape[1],1)))\n",
        "model.add(LSTM(50, return_sequences=False))\n",
        "model.add(Dense(25))\n",
        "model.add(Dense(1))\n"
      ],
      "execution_count": 26,
      "outputs": []
    },
    {
      "cell_type": "code",
      "metadata": {
        "id": "AIWHopCehYrP"
      },
      "source": [
        "#compile the model\n",
        "model.compile(optimizer='adam', loss='mean_squared_error')\n"
      ],
      "execution_count": 28,
      "outputs": []
    },
    {
      "cell_type": "code",
      "metadata": {
        "colab": {
          "base_uri": "https://localhost:8080/"
        },
        "id": "1ulmHWsOh7_F",
        "outputId": "4dec9d54-d153-4db7-981f-42ed262628e3"
      },
      "source": [
        "#Train the model\n",
        "model.fit(x_train, y_train, batch_size=1, epochs=1)\n"
      ],
      "execution_count": 29,
      "outputs": [
        {
          "output_type": "stream",
          "text": [
            "1752/1752 [==============================] - 42s 22ms/step - loss: 5.0969e-04\n"
          ],
          "name": "stdout"
        },
        {
          "output_type": "execute_result",
          "data": {
            "text/plain": [
              "<tensorflow.python.keras.callbacks.History at 0x7f70991cd630>"
            ]
          },
          "metadata": {
            "tags": []
          },
          "execution_count": 29
        }
      ]
    },
    {
      "cell_type": "code",
      "metadata": {
        "id": "LpH8bu8tiHLn"
      },
      "source": [
        "#Create the testing data set\n",
        "#Create a new array containing scaled values from index 1752 to 2265\n",
        "test_data = scaled_data[training_data_len -60: , :]\n",
        "#Create the data sets x_test and y_test\n",
        "x_test =[]\n",
        "y_test = dataset[training_data_len: , :]\n",
        "for i in range(60, len(test_data)):\n",
        "  x_test.append(test_data[i-60:i, 0])\n",
        "  "
      ],
      "execution_count": 30,
      "outputs": []
    },
    {
      "cell_type": "code",
      "metadata": {
        "id": "r5_i6ZjsjBKy"
      },
      "source": [
        "# Convert the data to numpy array\n",
        "x_test = np.array(x_test)\n"
      ],
      "execution_count": 31,
      "outputs": []
    },
    {
      "cell_type": "code",
      "metadata": {
        "id": "AAFhaCqEjQ1g"
      },
      "source": [
        "#Reshape the data\n",
        "x_test = np.reshape(x_test, (x_test.shape[0],x_test.shape[1], 1))\n"
      ],
      "execution_count": 32,
      "outputs": []
    },
    {
      "cell_type": "code",
      "metadata": {
        "id": "3oJBtoP6jnIT"
      },
      "source": [
        "#Get the models predicted price values\n",
        "predictions = model.predict(x_test)\n",
        "predictions = scaler.inverse_transform(predictions)\n"
      ],
      "execution_count": 33,
      "outputs": []
    },
    {
      "cell_type": "code",
      "metadata": {
        "colab": {
          "base_uri": "https://localhost:8080/"
        },
        "id": "atP2z14sj_mj",
        "outputId": "7b42da6d-b027-482d-cbf7-4a41d0c9f6e5"
      },
      "source": [
        "#GEt the root mean squared error (RMSE)\n",
        "rmse = np.sqrt( np.mean(predictions - y_test)** 2)\n",
        "rmse"
      ],
      "execution_count": 35,
      "outputs": [
        {
          "output_type": "execute_result",
          "data": {
            "text/plain": [
              "0.5784948066896687"
            ]
          },
          "metadata": {
            "tags": []
          },
          "execution_count": 35
        }
      ]
    },
    {
      "cell_type": "code",
      "metadata": {
        "colab": {
          "base_uri": "https://localhost:8080/",
          "height": 578
        },
        "id": "bYQrVgg4kOEQ",
        "outputId": "1531490d-1451-449b-d007-9ff0514e6e3d"
      },
      "source": [
        "#Plot the data\n",
        "train = data[:training_data_len]\n",
        "valid = data[training_data_len:]\n",
        "valid['Predictions'] = predictions\n",
        "#Visualize the data\n",
        "plt.figure(figsize=(16,8))\n",
        "plt.title('Model')\n",
        "plt.xlabel('Date', fontsize= 18)\n",
        "plt.ylabel('Close Price USD ($)', fontsize=18)\n",
        "plt.plot(train['Close'])\n",
        "plt.plot(valid[['Close', 'Predictions']])\n",
        "plt.legend(['Train', 'Validation', 'Prediction'], loc='lower right')\n",
        "plt.show()"
      ],
      "execution_count": 36,
      "outputs": [
        {
          "output_type": "stream",
          "text": [
            "/usr/local/lib/python3.6/dist-packages/ipykernel_launcher.py:4: SettingWithCopyWarning: \n",
            "A value is trying to be set on a copy of a slice from a DataFrame.\n",
            "Try using .loc[row_indexer,col_indexer] = value instead\n",
            "\n",
            "See the caveats in the documentation: https://pandas.pydata.org/pandas-docs/stable/user_guide/indexing.html#returning-a-view-versus-a-copy\n",
            "  after removing the cwd from sys.path.\n"
          ],
          "name": "stderr"
        },
        {
          "output_type": "display_data",
          "data": {
            "image/png": "[encoded data removed]",
            "text/plain": [
              "<Figure size 1152x576 with 1 Axes>"
            ]
          },
          "metadata": {
            "tags": []
          }
        }
      ]
    },
    {
      "cell_type": "code",
      "metadata": {
        "colab": {
          "base_uri": "https://localhost:8080/",
          "height": 431
        },
        "id": "ccotXzWIlZxO",
        "outputId": "e000ee28-9a77-4c02-8688-6a2d610780e8"
      },
      "source": [
        "#Show the valid and predicted prices\n",
        "valid"
      ],
      "execution_count": 37,
      "outputs": [
        {
          "output_type": "execute_result",
          "data": {
            "text/html": [
              "<div>\n",
              "<style scoped>\n",
              "    .dataframe tbody tr th:only-of-type {\n",
              "        vertical-align: middle;\n",
              "    }\n",
              "\n",
              "    .dataframe tbody tr th {\n",
              "        vertical-align: top;\n",
              "    }\n",
              "\n",
              "    .dataframe thead th {\n",
              "        text-align: right;\n",
              "    }\n",
              "</style>\n",
              "<table border=\"1\" class=\"dataframe\">\n",
              "  <thead>\n",
              "    <tr style=\"text-align: right;\">\n",
              "      <th></th>\n",
              "      <th>Close</th>\n",
              "      <th>Predictions</th>\n",
              "    </tr>\n",
              "    <tr>\n",
              "      <th>Date</th>\n",
              "      <th></th>\n",
              "      <th></th>\n",
              "    </tr>\n",
              "  </thead>\n",
              "  <tbody>\n",
              "    <tr>\n",
              "      <th>2019-03-19</th>\n",
              "      <td>46.632500</td>\n",
              "      <td>45.499702</td>\n",
              "    </tr>\n",
              "    <tr>\n",
              "      <th>2019-03-20</th>\n",
              "      <td>47.040001</td>\n",
              "      <td>45.889980</td>\n",
              "    </tr>\n",
              "    <tr>\n",
              "      <th>2019-03-21</th>\n",
              "      <td>48.772499</td>\n",
              "      <td>46.244930</td>\n",
              "    </tr>\n",
              "    <tr>\n",
              "      <th>2019-03-22</th>\n",
              "      <td>47.762501</td>\n",
              "      <td>46.748253</td>\n",
              "    </tr>\n",
              "    <tr>\n",
              "      <th>2019-03-25</th>\n",
              "      <td>47.185001</td>\n",
              "      <td>47.146523</td>\n",
              "    </tr>\n",
              "    <tr>\n",
              "      <th>...</th>\n",
              "      <td>...</td>\n",
              "      <td>...</td>\n",
              "    </tr>\n",
              "    <tr>\n",
              "      <th>2020-12-24</th>\n",
              "      <td>131.970001</td>\n",
              "      <td>126.917740</td>\n",
              "    </tr>\n",
              "    <tr>\n",
              "      <th>2020-12-28</th>\n",
              "      <td>136.690002</td>\n",
              "      <td>127.748215</td>\n",
              "    </tr>\n",
              "    <tr>\n",
              "      <th>2020-12-29</th>\n",
              "      <td>134.869995</td>\n",
              "      <td>129.053329</td>\n",
              "    </tr>\n",
              "    <tr>\n",
              "      <th>2020-12-30</th>\n",
              "      <td>133.720001</td>\n",
              "      <td>130.148880</td>\n",
              "    </tr>\n",
              "    <tr>\n",
              "      <th>2020-12-31</th>\n",
              "      <td>132.690002</td>\n",
              "      <td>130.866272</td>\n",
              "    </tr>\n",
              "  </tbody>\n",
              "</table>\n",
              "<p>453 rows × 2 columns</p>\n",
              "</div>"
            ],
            "text/plain": [
              "                 Close  Predictions\n",
              "Date                               \n",
              "2019-03-19   46.632500    45.499702\n",
              "2019-03-20   47.040001    45.889980\n",
              "2019-03-21   48.772499    46.244930\n",
              "2019-03-22   47.762501    46.748253\n",
              "2019-03-25   47.185001    47.146523\n",
              "...                ...          ...\n",
              "2020-12-24  131.970001   126.917740\n",
              "2020-12-28  136.690002   127.748215\n",
              "2020-12-29  134.869995   129.053329\n",
              "2020-12-30  133.720001   130.148880\n",
              "2020-12-31  132.690002   130.866272\n",
              "\n",
              "[453 rows x 2 columns]"
            ]
          },
          "metadata": {
            "tags": []
          },
          "execution_count": 37
        }
      ]
    },
    {
      "cell_type": "code",
      "metadata": {
        "id": "-irvKm2AlrYL"
      },
      "source": [
        "#Get the quote\n",
        "apple_quote = web.DataReader('AAPL', data_source='yahoo', start='2012-01-01', end = '2021-01-15')\n",
        "#Create a new datafram\n",
        "new_df = apple_quote.filter(['Close'])\n",
        "#"
      ],
      "execution_count": null,
      "outputs": []
    }
  ]
}